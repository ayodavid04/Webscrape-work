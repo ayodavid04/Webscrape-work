{
 "cells": [
  {
   "cell_type": "code",
   "execution_count": 2,
   "metadata": {},
   "outputs": [],
   "source": [
    "\"\"\"\n",
    "Web scraping with BeautifulSoup\n",
    "David Oduola\n",
    "Created: 16/02/2025\n",
    "\"\"\"\n",
    "    \n",
    "from bs4 import BeautifulSoup #import the necessary libraries\n",
    "import requests\n",
    "import pandas as pd"
   ]
  },
  {
   "cell_type": "code",
   "execution_count": 3,
   "metadata": {},
   "outputs": [
    {
     "data": {
      "text/plain": [
       "['Rank', 'Peak', 'Title', 'Worldwide gross', 'Year', 'Ref']"
      ]
     },
     "execution_count": 3,
     "metadata": {},
     "output_type": "execute_result"
    }
   ],
   "source": [
    "url = 'https://en.wikipedia.org/wiki/List_of_highest-grossing_films' #url of the webpage to scrape\n",
    "response = requests.get(url) #get the webpage\n",
    "soup = BeautifulSoup(response.text, 'html.parser') #parse the webpage\n",
    "\n",
    "# Find all tables with class \"wikitable\"\n",
    "tables = soup.find_all(\"table\", class_=\"wikitable\")\n",
    "table = tables[0]  # Assuming you want to use the first table\n",
    "\n",
    "headers = [th.text.strip() for th in table.find('tr').find_all('th')[:6]]\n",
    "headers\n"
   ]
  },
  {
   "cell_type": "code",
   "execution_count": 4,
   "metadata": {},
   "outputs": [],
   "source": [
    "df = pd.DataFrame(columns=headers) #create a dataframe with the headers as columns\n",
    "\n",
    "for row in table.find_all('tr')[1:]:  # Loop through each row, skipping the header row\n",
    "    cells = row.find_all(['th', 'td'])  # Extract cell data including 'th' for row headers\n",
    "    row_data = [td.text.strip() for td in cells]  # Clean text\n",
    "    \n",
    "    if len(row_data) == len(headers):  # Ensure the row data matches the number of headers\n",
    "        df.loc[len(df)] = row_data  # Append row to DataFrame"
   ]
  },
  {
   "cell_type": "code",
   "execution_count": 14,
   "metadata": {},
   "outputs": [],
   "source": [
    "df = df[['Title', 'Year', 'Worldwide gross', 'Rank', 'Peak']]  #Reshaping the dataframe\n",
    "df[\"Worldwide gross\"] = df[\"Worldwide gross\"].astype(str).str.replace(r\"[^0-9]\", \"\", regex=True).astype(float)\n",
    "\n"
   ]
  },
  {
   "cell_type": "code",
   "execution_count": 15,
   "metadata": {},
   "outputs": [],
   "source": [
    "df.to_csv('movie_data_scrape.csv', index=False,) # Save the DataFrame to a CSV file')"
   ]
  },
  {
   "cell_type": "code",
   "execution_count": null,
   "metadata": {},
   "outputs": [],
   "source": []
  }
 ],
 "metadata": {
  "kernelspec": {
   "display_name": "base",
   "language": "python",
   "name": "python3"
  },
  "language_info": {
   "codemirror_mode": {
    "name": "ipython",
    "version": 3
   },
   "file_extension": ".py",
   "mimetype": "text/x-python",
   "name": "python",
   "nbconvert_exporter": "python",
   "pygments_lexer": "ipython3",
   "version": "3.12.7"
  }
 },
 "nbformat": 4,
 "nbformat_minor": 2
}
