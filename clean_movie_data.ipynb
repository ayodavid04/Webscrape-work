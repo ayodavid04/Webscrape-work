{
 "cells": [
  {
   "cell_type": "code",
   "execution_count": 105,
   "metadata": {},
   "outputs": [],
   "source": [
    "import pandas as pd\n",
    "import numpy as np\n",
    "import matplotlib.pyplot as plt\n",
    "import seaborn as sns"
   ]
  },
  {
   "cell_type": "code",
   "execution_count": 106,
   "metadata": {},
   "outputs": [
    {
     "data": {
      "text/html": [
       "<div>\n",
       "<style scoped>\n",
       "    .dataframe tbody tr th:only-of-type {\n",
       "        vertical-align: middle;\n",
       "    }\n",
       "\n",
       "    .dataframe tbody tr th {\n",
       "        vertical-align: top;\n",
       "    }\n",
       "\n",
       "    .dataframe thead th {\n",
       "        text-align: right;\n",
       "    }\n",
       "</style>\n",
       "<table border=\"1\" class=\"dataframe\">\n",
       "  <thead>\n",
       "    <tr style=\"text-align: right;\">\n",
       "      <th></th>\n",
       "      <th>Title</th>\n",
       "      <th>Year</th>\n",
       "      <th>Worldwide gross</th>\n",
       "      <th>Rank</th>\n",
       "      <th>Peak</th>\n",
       "    </tr>\n",
       "  </thead>\n",
       "  <tbody>\n",
       "    <tr>\n",
       "      <th>0</th>\n",
       "      <td>Avatar</td>\n",
       "      <td>2009</td>\n",
       "      <td>2.923706e+09</td>\n",
       "      <td>1</td>\n",
       "      <td>1</td>\n",
       "    </tr>\n",
       "    <tr>\n",
       "      <th>1</th>\n",
       "      <td>Avengers: Endgame</td>\n",
       "      <td>2019</td>\n",
       "      <td>2.797501e+09</td>\n",
       "      <td>2</td>\n",
       "      <td>1</td>\n",
       "    </tr>\n",
       "    <tr>\n",
       "      <th>2</th>\n",
       "      <td>Avatar: The Way of Water</td>\n",
       "      <td>2022</td>\n",
       "      <td>2.320250e+09</td>\n",
       "      <td>3</td>\n",
       "      <td>3</td>\n",
       "    </tr>\n",
       "    <tr>\n",
       "      <th>3</th>\n",
       "      <td>Titanic</td>\n",
       "      <td>1997</td>\n",
       "      <td>2.257845e+09</td>\n",
       "      <td>4</td>\n",
       "      <td>1</td>\n",
       "    </tr>\n",
       "    <tr>\n",
       "      <th>4</th>\n",
       "      <td>Star Wars: The Force Awakens</td>\n",
       "      <td>2015</td>\n",
       "      <td>2.068224e+09</td>\n",
       "      <td>5</td>\n",
       "      <td>3</td>\n",
       "    </tr>\n",
       "  </tbody>\n",
       "</table>\n",
       "</div>"
      ],
      "text/plain": [
       "                          Title  Year  Worldwide gross  Rank Peak\n",
       "0                        Avatar  2009     2.923706e+09     1    1\n",
       "1             Avengers: Endgame  2019     2.797501e+09     2    1\n",
       "2      Avatar: The Way of Water  2022     2.320250e+09     3    3\n",
       "3                       Titanic  1997     2.257845e+09     4    1\n",
       "4  Star Wars: The Force Awakens  2015     2.068224e+09     5    3"
      ]
     },
     "execution_count": 106,
     "metadata": {},
     "output_type": "execute_result"
    }
   ],
   "source": [
    "df = pd.read_csv('movie_data_scrape.csv')\n",
    "df.head()"
   ]
  },
  {
   "cell_type": "markdown",
   "metadata": {},
   "source": [
    "# Naming the rows and columns"
   ]
  },
  {
   "cell_type": "code",
   "execution_count": 107,
   "metadata": {},
   "outputs": [
    {
     "data": {
      "text/plain": [
       "Index(['Title', 'Year', 'Worldwide gross', 'Rank', 'Peak'], dtype='object')"
      ]
     },
     "execution_count": 107,
     "metadata": {},
     "output_type": "execute_result"
    }
   ],
   "source": [
    "df.columns"
   ]
  },
  {
   "cell_type": "markdown",
   "metadata": {},
   "source": [
    "# Display overview of the datafraame"
   ]
  },
  {
   "cell_type": "code",
   "execution_count": 108,
   "metadata": {},
   "outputs": [
    {
     "name": "stdout",
     "output_type": "stream",
     "text": [
      "<class 'pandas.core.frame.DataFrame'>\n",
      "RangeIndex: 50 entries, 0 to 49\n",
      "Data columns (total 5 columns):\n",
      " #   Column           Non-Null Count  Dtype  \n",
      "---  ------           --------------  -----  \n",
      " 0   Title            50 non-null     object \n",
      " 1   Year             50 non-null     int64  \n",
      " 2   Worldwide gross  50 non-null     float64\n",
      " 3   Rank             50 non-null     int64  \n",
      " 4   Peak             50 non-null     object \n",
      "dtypes: float64(1), int64(2), object(2)\n",
      "memory usage: 2.1+ KB\n"
     ]
    }
   ],
   "source": [
    "df.info()"
   ]
  },
  {
   "cell_type": "markdown",
   "metadata": {},
   "source": [
    "# Summary of numeric coulmns"
   ]
  },
  {
   "cell_type": "code",
   "execution_count": 109,
   "metadata": {},
   "outputs": [
    {
     "data": {
      "text/html": [
       "<div>\n",
       "<style scoped>\n",
       "    .dataframe tbody tr th:only-of-type {\n",
       "        vertical-align: middle;\n",
       "    }\n",
       "\n",
       "    .dataframe tbody tr th {\n",
       "        vertical-align: top;\n",
       "    }\n",
       "\n",
       "    .dataframe thead th {\n",
       "        text-align: right;\n",
       "    }\n",
       "</style>\n",
       "<table border=\"1\" class=\"dataframe\">\n",
       "  <thead>\n",
       "    <tr style=\"text-align: right;\">\n",
       "      <th></th>\n",
       "      <th>Year</th>\n",
       "      <th>Worldwide gross</th>\n",
       "      <th>Rank</th>\n",
       "    </tr>\n",
       "  </thead>\n",
       "  <tbody>\n",
       "    <tr>\n",
       "      <th>count</th>\n",
       "      <td>50.000000</td>\n",
       "      <td>5.000000e+01</td>\n",
       "      <td>50.00000</td>\n",
       "    </tr>\n",
       "    <tr>\n",
       "      <th>mean</th>\n",
       "      <td>2015.400000</td>\n",
       "      <td>3.001399e+09</td>\n",
       "      <td>25.50000</td>\n",
       "    </tr>\n",
       "    <tr>\n",
       "      <th>std</th>\n",
       "      <td>6.758215</td>\n",
       "      <td>1.129891e+10</td>\n",
       "      <td>14.57738</td>\n",
       "    </tr>\n",
       "    <tr>\n",
       "      <th>min</th>\n",
       "      <td>1993.000000</td>\n",
       "      <td>1.034800e+09</td>\n",
       "      <td>1.00000</td>\n",
       "    </tr>\n",
       "    <tr>\n",
       "      <th>25%</th>\n",
       "      <td>2012.250000</td>\n",
       "      <td>1.086891e+09</td>\n",
       "      <td>13.25000</td>\n",
       "    </tr>\n",
       "    <tr>\n",
       "      <th>50%</th>\n",
       "      <td>2017.000000</td>\n",
       "      <td>1.276761e+09</td>\n",
       "      <td>25.50000</td>\n",
       "    </tr>\n",
       "    <tr>\n",
       "      <th>75%</th>\n",
       "      <td>2019.000000</td>\n",
       "      <td>1.517947e+09</td>\n",
       "      <td>37.75000</td>\n",
       "    </tr>\n",
       "    <tr>\n",
       "      <th>max</th>\n",
       "      <td>2025.000000</td>\n",
       "      <td>8.123876e+10</td>\n",
       "      <td>50.00000</td>\n",
       "    </tr>\n",
       "  </tbody>\n",
       "</table>\n",
       "</div>"
      ],
      "text/plain": [
       "              Year  Worldwide gross      Rank\n",
       "count    50.000000     5.000000e+01  50.00000\n",
       "mean   2015.400000     3.001399e+09  25.50000\n",
       "std       6.758215     1.129891e+10  14.57738\n",
       "min    1993.000000     1.034800e+09   1.00000\n",
       "25%    2012.250000     1.086891e+09  13.25000\n",
       "50%    2017.000000     1.276761e+09  25.50000\n",
       "75%    2019.000000     1.517947e+09  37.75000\n",
       "max    2025.000000     8.123876e+10  50.00000"
      ]
     },
     "execution_count": 109,
     "metadata": {},
     "output_type": "execute_result"
    }
   ],
   "source": [
    "df.describe()"
   ]
  },
  {
   "cell_type": "markdown",
   "metadata": {},
   "source": [
    "# Chekcing for null data"
   ]
  },
  {
   "cell_type": "code",
   "execution_count": 110,
   "metadata": {},
   "outputs": [
    {
     "data": {
      "text/plain": [
       "False"
      ]
     },
     "execution_count": 110,
     "metadata": {},
     "output_type": "execute_result"
    }
   ],
   "source": [
    "df.isnull().values.any()"
   ]
  },
  {
   "cell_type": "markdown",
   "metadata": {},
   "source": [
    "# Changing the Worldwide gross colum from object to float"
   ]
  },
  {
   "cell_type": "code",
   "execution_count": 111,
   "metadata": {},
   "outputs": [
    {
     "data": {
      "text/plain": [
       "0      2923706026.0\n",
       "1      2797501328.0\n",
       "2      2320250281.0\n",
       "3      2257844554.0\n",
       "4      2068223624.0\n",
       "5      2048359754.0\n",
       "6      1922598800.0\n",
       "7      1698863816.0\n",
       "8      1671537444.0\n",
       "9      1656943394.0\n",
       "10     1631940000.0\n",
       "11     1518815515.0\n",
       "12     1515341399.0\n",
       "13     1495696292.0\n",
       "14     1450026933.0\n",
       "15     1447038421.0\n",
       "16     1402809540.0\n",
       "17     1362566989.0\n",
       "18     1347280838.0\n",
       "19     1342139727.0\n",
       "20     1338073645.0\n",
       "21     1332539889.0\n",
       "22     1308473425.0\n",
       "23     1290000000.0\n",
       "24     1263521126.0\n",
       "25     1242805359.0\n",
       "26    81238764765.0\n",
       "27     1214811252.0\n",
       "28     1159444662.0\n",
       "29     1153337496.0\n",
       "30     1148528393.0\n",
       "31     1147997407.0\n",
       "32     1132679685.0\n",
       "33     1128274794.0\n",
       "34     1123794079.0\n",
       "35     1108594137.0\n",
       "36     1104054072.0\n",
       "37     1081169825.0\n",
       "38     1074458282.0\n",
       "39     1074144248.0\n",
       "40     1073394593.0\n",
       "41     1066970811.0\n",
       "42     1066179747.0\n",
       "43     1057420387.0\n",
       "44     1050693953.0\n",
       "45     1046515409.0\n",
       "46     1045751565.0\n",
       "47     1045713802.0\n",
       "48     1037535230.0\n",
       "49     1034800131.0\n",
       "Name: Worldwide gross, dtype: object"
      ]
     },
     "execution_count": 111,
     "metadata": {},
     "output_type": "execute_result"
    }
   ],
   "source": [
    "df[\"Worldwide gross\"] = df[\"Worldwide gross\"].astype(str).str.replace(r\"[$,]\", \"\", regex=True)\n",
    "df['Worldwide gross']\n"
   ]
  },
  {
   "cell_type": "markdown",
   "metadata": {},
   "source": [
    "# Top ten highest grossing movies"
   ]
  },
  {
   "cell_type": "code",
   "execution_count": 112,
   "metadata": {},
   "outputs": [
    {
     "data": {
      "text/html": [
       "<div>\n",
       "<style scoped>\n",
       "    .dataframe tbody tr th:only-of-type {\n",
       "        vertical-align: middle;\n",
       "    }\n",
       "\n",
       "    .dataframe tbody tr th {\n",
       "        vertical-align: top;\n",
       "    }\n",
       "\n",
       "    .dataframe thead th {\n",
       "        text-align: right;\n",
       "    }\n",
       "</style>\n",
       "<table border=\"1\" class=\"dataframe\">\n",
       "  <thead>\n",
       "    <tr style=\"text-align: right;\">\n",
       "      <th></th>\n",
       "      <th>Title</th>\n",
       "      <th>Year</th>\n",
       "      <th>Worldwide gross</th>\n",
       "      <th>Rank</th>\n",
       "      <th>Peak</th>\n",
       "    </tr>\n",
       "  </thead>\n",
       "  <tbody>\n",
       "    <tr>\n",
       "      <th>26</th>\n",
       "      <td>The Fate of the Furious</td>\n",
       "      <td>2017</td>\n",
       "      <td>81238764765.0</td>\n",
       "      <td>27</td>\n",
       "      <td>11</td>\n",
       "    </tr>\n",
       "    <tr>\n",
       "      <th>0</th>\n",
       "      <td>Avatar</td>\n",
       "      <td>2009</td>\n",
       "      <td>2923706026.0</td>\n",
       "      <td>1</td>\n",
       "      <td>1</td>\n",
       "    </tr>\n",
       "    <tr>\n",
       "      <th>1</th>\n",
       "      <td>Avengers: Endgame</td>\n",
       "      <td>2019</td>\n",
       "      <td>2797501328.0</td>\n",
       "      <td>2</td>\n",
       "      <td>1</td>\n",
       "    </tr>\n",
       "    <tr>\n",
       "      <th>2</th>\n",
       "      <td>Avatar: The Way of Water</td>\n",
       "      <td>2022</td>\n",
       "      <td>2320250281.0</td>\n",
       "      <td>3</td>\n",
       "      <td>3</td>\n",
       "    </tr>\n",
       "    <tr>\n",
       "      <th>3</th>\n",
       "      <td>Titanic</td>\n",
       "      <td>1997</td>\n",
       "      <td>2257844554.0</td>\n",
       "      <td>4</td>\n",
       "      <td>1</td>\n",
       "    </tr>\n",
       "    <tr>\n",
       "      <th>4</th>\n",
       "      <td>Star Wars: The Force Awakens</td>\n",
       "      <td>2015</td>\n",
       "      <td>2068223624.0</td>\n",
       "      <td>5</td>\n",
       "      <td>3</td>\n",
       "    </tr>\n",
       "    <tr>\n",
       "      <th>5</th>\n",
       "      <td>Avengers: Infinity War</td>\n",
       "      <td>2018</td>\n",
       "      <td>2048359754.0</td>\n",
       "      <td>6</td>\n",
       "      <td>4</td>\n",
       "    </tr>\n",
       "    <tr>\n",
       "      <th>6</th>\n",
       "      <td>Spider-Man: No Way Home</td>\n",
       "      <td>2021</td>\n",
       "      <td>1922598800.0</td>\n",
       "      <td>7</td>\n",
       "      <td>6</td>\n",
       "    </tr>\n",
       "    <tr>\n",
       "      <th>7</th>\n",
       "      <td>Inside Out 2</td>\n",
       "      <td>2024</td>\n",
       "      <td>1698863816.0</td>\n",
       "      <td>8</td>\n",
       "      <td>8</td>\n",
       "    </tr>\n",
       "    <tr>\n",
       "      <th>8</th>\n",
       "      <td>Jurassic World</td>\n",
       "      <td>2015</td>\n",
       "      <td>1671537444.0</td>\n",
       "      <td>9</td>\n",
       "      <td>3</td>\n",
       "    </tr>\n",
       "  </tbody>\n",
       "</table>\n",
       "</div>"
      ],
      "text/plain": [
       "                           Title  Year Worldwide gross  Rank Peak\n",
       "26       The Fate of the Furious  2017   81238764765.0    27   11\n",
       "0                         Avatar  2009    2923706026.0     1    1\n",
       "1              Avengers: Endgame  2019    2797501328.0     2    1\n",
       "2       Avatar: The Way of Water  2022    2320250281.0     3    3\n",
       "3                        Titanic  1997    2257844554.0     4    1\n",
       "4   Star Wars: The Force Awakens  2015    2068223624.0     5    3\n",
       "5         Avengers: Infinity War  2018    2048359754.0     6    4\n",
       "6        Spider-Man: No Way Home  2021    1922598800.0     7    6\n",
       "7                   Inside Out 2  2024    1698863816.0     8    8\n",
       "8                 Jurassic World  2015    1671537444.0     9    3"
      ]
     },
     "execution_count": 112,
     "metadata": {},
     "output_type": "execute_result"
    }
   ],
   "source": [
    "top_ten = df.sort_values(by='Worldwide gross', ascending=False).head(10)\n",
    "top_ten"
   ]
  },
  {
   "cell_type": "markdown",
   "metadata": {},
   "source": [
    "# How many movies were released per year"
   ]
  },
  {
   "cell_type": "code",
   "execution_count": 113,
   "metadata": {},
   "outputs": [
    {
     "data": {
      "text/plain": [
       "Year\n",
       "1993    1\n",
       "1997    1\n",
       "1999    1\n",
       "2003    1\n",
       "2006    1\n",
       "2009    1\n",
       "2010    1\n",
       "2011    3\n",
       "2012    3\n",
       "2013    2\n",
       "2014    1\n",
       "2015    5\n",
       "2016    2\n",
       "2017    4\n",
       "2018    5\n",
       "2019    9\n",
       "2021    1\n",
       "2022    2\n",
       "2023    2\n",
       "2024    3\n",
       "2025    1\n",
       "Name: count, dtype: int64"
      ]
     },
     "execution_count": 113,
     "metadata": {},
     "output_type": "execute_result"
    }
   ],
   "source": [
    "movies_per_year = df['Year'].value_counts().sort_index()\n",
    "movies_per_year"
   ]
  },
  {
   "cell_type": "markdown",
   "metadata": {},
   "source": [
    "# Which year had the highest total box office revenue\n"
   ]
  },
  {
   "cell_type": "code",
   "execution_count": 114,
   "metadata": {},
   "outputs": [
    {
     "data": {
      "text/plain": [
       "Year\n",
       "2017    81238764765.0\n",
       "2009     2923706026.0\n",
       "2019     2797501328.0\n",
       "2022     2320250281.0\n",
       "1997     2257844554.0\n",
       "2015     2068223624.0\n",
       "2018     2048359754.0\n",
       "2021     1922598800.0\n",
       "2024     1698863816.0\n",
       "2025     1631940000.0\n",
       "2012     1518815515.0\n",
       "2023     1447038421.0\n",
       "2011     1342139727.0\n",
       "2013     1290000000.0\n",
       "2016     1153337496.0\n",
       "2003     1147997407.0\n",
       "2014     1104054072.0\n",
       "2010     1066970811.0\n",
       "2006     1066179747.0\n",
       "1999     1046515409.0\n",
       "1993     1037535230.0\n",
       "Name: Worldwide gross, dtype: object"
      ]
     },
     "execution_count": 114,
     "metadata": {},
     "output_type": "execute_result"
    }
   ],
   "source": [
    "highest_revenue_per_year = df.groupby('Year')['Worldwide gross'].max().sort_values(ascending=False)\n",
    "highest_revenue_per_year"
   ]
  },
  {
   "cell_type": "markdown",
   "metadata": {},
   "source": [
    "# Which movie had the lowest worldiwde gross"
   ]
  },
  {
   "cell_type": "code",
   "execution_count": 115,
   "metadata": {},
   "outputs": [
    {
     "data": {
      "text/plain": [
       "Year\n",
       "2017    1034800131.0\n",
       "1993    1037535230.0\n",
       "2011    1045713802.0\n",
       "2024    1045751565.0\n",
       "1999    1046515409.0\n",
       "2019    1050693953.0\n",
       "2016    1057420387.0\n",
       "2006    1066179747.0\n",
       "2010    1066970811.0\n",
       "2012    1081169825.0\n",
       "2014    1104054072.0\n",
       "2003    1147997407.0\n",
       "2018    1148528393.0\n",
       "2015    1159444662.0\n",
       "2013    1214811252.0\n",
       "2023    1362566989.0\n",
       "2022    1495696292.0\n",
       "2025    1631940000.0\n",
       "2021    1922598800.0\n",
       "1997    2257844554.0\n",
       "2009    2923706026.0\n",
       "Name: Worldwide gross, dtype: object"
      ]
     },
     "execution_count": 115,
     "metadata": {},
     "output_type": "execute_result"
    }
   ],
   "source": [
    "lowest_revenue_per_year = df.groupby('Year')['Worldwide gross'].min().sort_values(ascending=True)\n",
    "lowest_revenue_per_year"
   ]
  }
 ],
 "metadata": {
  "kernelspec": {
   "display_name": "base",
   "language": "python",
   "name": "python3"
  },
  "language_info": {
   "codemirror_mode": {
    "name": "ipython",
    "version": 3
   },
   "file_extension": ".py",
   "mimetype": "text/x-python",
   "name": "python",
   "nbconvert_exporter": "python",
   "pygments_lexer": "ipython3",
   "version": "3.12.7"
  }
 },
 "nbformat": 4,
 "nbformat_minor": 2
}
